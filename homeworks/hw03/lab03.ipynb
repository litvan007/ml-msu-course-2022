{
 "cells": [
  {
   "cell_type": "markdown",
   "metadata": {
    "collapsed": false,
    "pycharm": {
     "name": "#%% md\n"
    }
   },
   "source": [
    "# Lab 03. Weather Predict Competition\n",
    "\n",
    "This lab consists of only one task: train a model to predict if it is going to rain the next day:\n",
    "- Classification metric is **roc-auc**\n",
    "- Score should be calculated on a hold-out set (don't use it for training)\n",
    "\n",
    "\n",
    "#### Evaluation\n",
    "- Score > 0.860 - 3 points\n",
    "- Score > 0.865 - 5 points\n",
    "- Score > 0.870 - 7 points\n",
    "- Score > 0.875 - 9 points\n",
    "- Score > 0.880 - 11 points\n",
    "- Score > 0.885 - 13 points\n",
    "- Score > 0.890 - 15 points\n",
    "- You are encouraged to use various methods and tricks to get extra points\n",
    "\n",
    "#### Do not use any external data or models that were not covered in the course (no gradient boosting and  neural nets).\n",
    "\n",
    "\n",
    "#### How to submit\n",
    "- Name your file according to this convention: `2022_lab03_GroupNumber_Surname_Name.ipynb`, for example \n",
    "    - `2022_lab03_404_Sheipak_Sviat.ipynb`\n",
    "    - `2022_lab03_NoGroup_Sheipak_Sviat.ipynb`\n",
    "- Attach your .ipynb to an email with topic `2022_lab02_GroupNumber_Surname_Name`\n",
    "- Send it to `cosmic.research.ml@yandex.ru`\n",
    "- Deadline is ` 22022-11-03 23:00:00 +03:00`\n",
    "\n",
    "#### The Data:\n",
    "- All the datasets you need are here: https://github.com/cosmic-research-ml-edu/intro_ml_2022/blob/main/homeworks/hw03/train.csv"
   ]
  },
  {
   "cell_type": "code",
   "execution_count": null,
   "metadata": {
    "collapsed": false,
    "pycharm": {
     "name": "#%%\n"
    }
   },
   "outputs": [],
   "source": [
    "import matplotlib.pyplot as plt\n",
    "import pandas as pd\n",
    "import numpy as np\n",
    "import seaborn as sns\n",
    "from sklearn.preprocessing import StandardScaler, LabelEncoder\n",
    "from sklearn.model_selection import train_test_split\n",
    "from sklearn import metrics\n",
    "import tqdm as tqdm"
   ]
  },
  {
   "cell_type": "code",
   "execution_count": null,
   "metadata": {
    "collapsed": false,
    "pycharm": {
     "name": "#%%\n"
    }
   },
   "outputs": [],
   "source": [
    "db_train_original = pd.read_csv(\"holdout_data/train.csv\")\n",
    "db_test_original = pd.read_csv(\"holdout_data/holdout.csv\")\n",
    "\n",
    "db_train = db_train_original.copy()\n",
    "db_test = db_test_original.copy()\n",
    "\n",
    "db_train.drop(columns=['row_id'], inplace=True)\n",
    "db_test.drop(columns=['row_id'], inplace=True)\n",
    "\n",
    "target_train = db_train['raintomorrow']\n",
    "db_train.drop(columns=['raintomorrow'], inplace=True)\n",
    "\n",
    "target_test = db_test['raintomorrow']\n",
    "db_test.drop(columns=['raintomorrow'], inplace=True)"
   ]
  },
  {
   "cell_type": "code",
   "execution_count": null,
   "metadata": {
    "collapsed": false,
    "pycharm": {
     "name": "#%%\n"
    }
   },
   "outputs": [],
   "source": [
    "def LE_create_features(db):\n",
    "    lc = LabelEncoder()\n",
    "    for series in db:\n",
    "        if db[series].dtype == 'object':\n",
    "            db[series] = lc.fit_transform(db[series])\n",
    "\n",
    "    return db"
   ]
  },
  {
   "cell_type": "markdown",
   "metadata": {
    "collapsed": false,
    "pycharm": {
     "name": "#%% md\n"
    }
   },
   "source": [
    "# Deal with NaNs"
   ]
  },
  {
   "cell_type": "markdown",
   "metadata": {
    "collapsed": false,
    "pycharm": {
     "name": "#%% md\n"
    }
   },
   "source": [
    "Obviosly that we should do somthing with NaNs to increase the score  "
   ]
  },
  {
   "cell_type": "code",
   "execution_count": null,
   "metadata": {
    "collapsed": false,
    "pycharm": {
     "name": "#%%\n"
    }
   },
   "outputs": [],
   "source": [
    "db_test.isnull().sum().sort_values(ascending=False)"
   ]
  },
  {
   "cell_type": "code",
   "execution_count": null,
   "metadata": {
    "collapsed": false,
    "pycharm": {
     "name": "#%%\n"
    }
   },
   "outputs": [],
   "source": [
    "db_train.fillna(db_train.median(), inplace=True)\n",
    "db_test.fillna(db_test.median(), inplace=True)\n",
    "\n",
    "db_train.fillna(db_train.mode(dropna=True).iloc[0], inplace=True)\n",
    "db_test.fillna(db_test.mode(dropna=True).iloc[0], inplace=True)"
   ]
  },
  {
   "cell_type": "markdown",
   "metadata": {
    "collapsed": false,
    "pycharm": {
     "name": "#%% md\n"
    }
   },
   "source": [
    "# Feature generation"
   ]
  },
  {
   "cell_type": "code",
   "execution_count": null,
   "metadata": {
    "collapsed": false,
    "pycharm": {
     "name": "#%%\n"
    }
   },
   "outputs": [],
   "source": [
    "plt.figure(figsize=(12,7))\n",
    "sns.heatmap(db_train.corr(), annot=True, cmap='coolwarm')"
   ]
  },
  {
   "cell_type": "markdown",
   "metadata": {
    "collapsed": false,
    "pycharm": {
     "name": "#%% md\n"
    }
   },
   "source": [
    "**Temperature range**"
   ]
  },
  {
   "cell_type": "code",
   "execution_count": null,
   "metadata": {
    "collapsed": false,
    "pycharm": {
     "name": "#%%\n"
    }
   },
   "outputs": [],
   "source": [
    "db_train['temp_range'] = db_train['maxtemp'] - db_train['mintemp']\n",
    "db_test['temp_range'] = db_test['maxtemp'] - db_test['mintemp']"
   ]
  },
  {
   "cell_type": "markdown",
   "metadata": {
    "collapsed": false,
    "pycharm": {
     "name": "#%% md\n"
    }
   },
   "source": [
    "**Winddir changing (not intresting)**"
   ]
  },
  {
   "cell_type": "code",
   "execution_count": null,
   "metadata": {
    "collapsed": false,
    "pycharm": {
     "name": "#%%\n"
    }
   },
   "outputs": [],
   "source": [
    "# db_train['wind_dir_changed'] = pd.Series([True if db_train['winddir9am'][i] != db_train['winddir3pm'][i] else False for i in range(len(db_train))])\n",
    "# db_test['wind_dir_changed'] = pd.Series([True if db_test['winddir9am'][i] != db_test['winddir3pm'][i] else False for i in range(len(db_test))])"
   ]
  },
  {
   "cell_type": "markdown",
   "metadata": {
    "collapsed": false,
    "pycharm": {
     "name": "#%% md\n"
    }
   },
   "source": [
    "**Wind speed reduction**"
   ]
  },
  {
   "cell_type": "code",
   "execution_count": null,
   "metadata": {
    "collapsed": false,
    "pycharm": {
     "name": "#%%\n"
    }
   },
   "outputs": [],
   "source": [
    "db_train['windspeed_reduction'] = db_train['windspeed3pm']-db_train['windspeed9am']\n",
    "db_test['windspeed_reduction'] = db_test['windspeed3pm']-db_test['windspeed9am']"
   ]
  },
  {
   "cell_type": "markdown",
   "metadata": {
    "collapsed": false,
    "pycharm": {
     "name": "#%% md\n"
    }
   },
   "source": [
    "**Pressure reduction**"
   ]
  },
  {
   "cell_type": "code",
   "execution_count": null,
   "metadata": {
    "collapsed": false,
    "pycharm": {
     "name": "#%%\n"
    }
   },
   "outputs": [],
   "source": [
    "db_train['pressure_reduction'] = db_train['pressure3pm']-db_train['pressure9am']\n",
    "db_test['pressure_reduction'] = db_test['pressure3pm']-db_test['pressure9am']"
   ]
  },
  {
   "cell_type": "markdown",
   "metadata": {
    "collapsed": false,
    "pycharm": {
     "name": "#%% md\n"
    }
   },
   "source": [
    "**Humidity reduction**"
   ]
  },
  {
   "cell_type": "code",
   "execution_count": null,
   "metadata": {
    "collapsed": false,
    "pycharm": {
     "name": "#%%\n"
    }
   },
   "outputs": [],
   "source": [
    "db_train['humidity_reduction'] = db_train['humidity3pm']-db_train['humidity9am']\n",
    "db_test['humidity_reduction'] = db_test['humidity3pm']-db_test['humidity9am']"
   ]
  },
  {
   "cell_type": "markdown",
   "metadata": {
    "collapsed": false,
    "pycharm": {
     "name": "#%% md\n"
    }
   },
   "source": [
    "**Cloud reduction (not intresting)**"
   ]
  },
  {
   "cell_type": "code",
   "execution_count": null,
   "metadata": {
    "collapsed": false,
    "pycharm": {
     "name": "#%%\n"
    }
   },
   "outputs": [],
   "source": [
    "# db_train['cloud_reduction'] = db_train['cloud3pm']-db_train['cloud9am']\n",
    "# db_test['cloud_reduction'] = db_test['cloud3pm']-db_test['cloud9am']"
   ]
  },
  {
   "cell_type": "code",
   "execution_count": null,
   "metadata": {
    "collapsed": false,
    "pycharm": {
     "name": "#%%\n"
    }
   },
   "outputs": [],
   "source": [
    "db_train"
   ]
  },
  {
   "cell_type": "markdown",
   "metadata": {
    "collapsed": false,
    "pycharm": {
     "name": "#%% md\n"
    }
   },
   "source": [
    "# Encoding"
   ]
  },
  {
   "cell_type": "markdown",
   "metadata": {
    "collapsed": false,
    "pycharm": {
     "name": "#%% md\n"
    }
   },
   "source": [
    "**One-hot (bad idea)**"
   ]
  },
  {
   "cell_type": "code",
   "execution_count": null,
   "metadata": {
    "collapsed": false,
    "pycharm": {
     "name": "#%%\n"
    }
   },
   "outputs": [],
   "source": [
    "db_train_one_hot = pd.get_dummies(db_train)\n",
    "db_test_one_hot = pd.get_dummies(db_test)\n",
    "db_train_one_hot"
   ]
  },
  {
   "cell_type": "markdown",
   "metadata": {
    "collapsed": false,
    "pycharm": {
     "name": "#%% md\n"
    }
   },
   "source": [
    "**Label Encoding (good idea)**"
   ]
  },
  {
   "cell_type": "code",
   "execution_count": null,
   "metadata": {
    "collapsed": false,
    "pycharm": {
     "name": "#%%\n"
    }
   },
   "outputs": [],
   "source": [
    "def LE_create_features(db):\n",
    "    lc = LabelEncoder()\n",
    "    for series in db:\n",
    "        if db[series].dtype == 'object':\n",
    "            db[series] = lc.fit_transform(db[series])\n",
    "\n",
    "    return db\n",
    "\n",
    "db_train_lc = LE_create_features(db_train)\n",
    "db_test_lc = LE_create_features(db_test)"
   ]
  },
  {
   "cell_type": "code",
   "execution_count": null,
   "metadata": {
    "collapsed": false,
    "pycharm": {
     "name": "#%%\n"
    }
   },
   "outputs": [],
   "source": [
    "from sklearn.linear_model import LogisticRegression\n",
    "from sklearn.tree import DecisionTreeClassifier\n",
    "from sklearn.ensemble import RandomForestClassifier\n",
    "from sklearn import svm"
   ]
  },
  {
   "cell_type": "code",
   "execution_count": 1,
   "metadata": {
    "collapsed": false,
    "pycharm": {
     "name": "#%%\n"
    }
   },
   "outputs": [],
   "source": [
    "from sklearn.model_selection import train_test_split\n",
    "from sklearn.model_selection import GridSearchCV\n",
    "from sklearn.model_selection import RandomizedSearchCV\n",
    "from sklearn.metrics import roc_auc_score\n",
    "from sklearn.preprocessing import StandardScaler\n",
    "\n",
    "RANDOM_STATE = 24"
   ]
  },
  {
   "cell_type": "code",
   "execution_count": null,
   "metadata": {
    "collapsed": false,
    "pycharm": {
     "name": "#%%\n"
    }
   },
   "outputs": [],
   "source": [
    "scaler = StandardScaler()\n",
    "X_train = scaler.fit_transform(db_train_lc)\n",
    "y_train = target_train.values\n",
    "\n",
    "X_test = scaler.fit_transform(db_test_lc)\n",
    "y_test = target_test.values"
   ]
  },
  {
   "cell_type": "code",
   "execution_count": null,
   "metadata": {
    "collapsed": false,
    "pycharm": {
     "name": "#%%\n"
    }
   },
   "outputs": [],
   "source": [
    "# clf1 = svm.SVC(probability=True) <-- bad idea\n",
    "clf2 = LogisticRegression(solver='saga')\n",
    "clf3 = DecisionTreeClassifier(max_features='auto')\n",
    "clf4 = RandomForestClassifier()\n",
    "classifiers = [clf2, clf3, clf4]\n",
    "\n",
    "# Params for random forest (Huge grid)\n",
    "n_estimators = [int(x) for x in np.linspace(2, 150, 25)]\n",
    "max_features = ['log2', 'sqrt']\n",
    "max_depth = [int(x) for x in np.linspace(1, 15, 15)]\n",
    "min_samples_split = [int(x) for x in np.linspace(2, 50, 10)]\n",
    "min_samples_leaf = [int(x) for x in np.linspace(2, 50, 10)]\n",
    "bootstrap = [True, False]\n",
    "params_rf = {'n_estimators': n_estimators,\n",
    "               'max_features': max_features,\n",
    "               'max_depth': max_depth,\n",
    "               'min_samples_split': min_samples_split,\n",
    "               'min_samples_leaf': min_samples_leaf,\n",
    "               'bootstrap': bootstrap}\n",
    "\n",
    "# All params\n",
    "grids = [{'penalty': ['l1', 'l2', 'elasticnet', 'none'],\n",
    "         'C': np.unique(np.array([i for i in map(round, np.logspace(0.2, 1.7, 20))])),\n",
    "        'l1_ratio': np.linspace(0.001, 0.999, 10)},\n",
    "        {'max_depth': np.arange(2, 11),\n",
    "         'criterion': ['gini', 'entropy', 'log_loss']},\n",
    "         params_rf]"
   ]
  },
  {
   "cell_type": "code",
   "execution_count": null,
   "metadata": {
    "collapsed": false,
    "pycharm": {
     "name": "#%%\n"
    }
   },
   "outputs": [],
   "source": [
    "def params_tuning(X_train, y_train, X_test, y_test, classifiers, grids, isPCA=False):\n",
    "    if isPCA: # <-- bad idea\n",
    "        pca = PCA(n_components=60)\n",
    "        X_train = pca.fit_transform(X_train)\n",
    "        X_test = pca.fit_transform(X_test)\n",
    "\n",
    "    roc_grid_scores = []\n",
    "    grid_scores = []\n",
    "    clfs_new = []\n",
    "    for clf, grid in zip(classifiers, grids):\n",
    "        cls_gr = RandomizedSearchCV(clf, grid, n_iter=150, cv = 7, verbose = 1, n_jobs=-1).fit(X_train, y_train)\n",
    "        clfs_new.append(cls_gr.best_estimator_)\n",
    "        grid_scores.append(cls_gr.best_score_)\n",
    "        roc_grid_scores.append(roc_auc_score(y_test, cls_gr.predict_proba(X_test)[:, 1]))\n",
    "    return clfs_new, roc_grid_scores"
   ]
  },
  {
   "cell_type": "code",
   "execution_count": null,
   "metadata": {
    "collapsed": false,
    "pycharm": {
     "name": "#%%\n"
    }
   },
   "outputs": [],
   "source": [
    "clfs_new, roc_grid_scores = params_tuning(X_train, y_train, X_test, y_test, classifiers, grids, isPCA=False)"
   ]
  },
  {
   "cell_type": "code",
   "execution_count": null,
   "metadata": {
    "collapsed": false,
    "pycharm": {
     "name": "#%%\n"
    }
   },
   "outputs": [],
   "source": [
    "names = ['LogisticRegression', 'DecisionTreeClassifier', 'RandomForestClassifier']\n",
    "fig, axes = plt.subplots(3, 1, figsize=(30, 20))\n",
    "for clf, name, score, ax in zip(clfs_new, names, roc_grid_scores, axes):\n",
    "    if name == 'LogisticRegression':\n",
    "        clf_model_coefs = clf.coef_[0]\n",
    "    else:\n",
    "        clf_model_coefs = clf.feature_importances_\n",
    "    ncoef = clf_model_coefs.shape[0]\n",
    "    default_x = np.arange(ncoef)\n",
    "    ax.bar(default_x - 0.1, clf_model_coefs, label=f'{name}\\n{score}', width=1, color = 'blue')\n",
    "    ax.set_xticks(default_x, [*db_train.columns], rotation=45)\n",
    "    ax.set_xlabel('Coefficient Index')\n",
    "    ax.set_ylabel('Coefficient Magnitude')\n",
    "    ax.legend(loc='upper right')\n",
    "    ax.grid()\n",
    "plt.title('Importants features magnitude')\n",
    "plt.show()"
   ]
  },
  {
   "cell_type": "markdown",
   "metadata": {
    "collapsed": false,
    "pycharm": {
     "name": "#%% md\n"
    }
   },
   "source": [
    "**The end result (score)**"
   ]
  },
  {
   "cell_type": "code",
   "execution_count": null,
   "metadata": {
    "collapsed": false,
    "pycharm": {
     "name": "#%%\n"
    }
   },
   "outputs": [],
   "source": [
    "lst = dict(zip(names, roc_grid_scores))\n",
    "lst = sorted(lst.items(), reverse=True)\n",
    "print(f'Roc-auc by {lst[0][0]} is {lst[0][1]}')"
   ]
  },
  {
   "cell_type": "markdown",
   "metadata": {
    "pycharm": {
     "name": "#%% md\n"
    }
   },
   "source": [
    "**The end result (score)**"
   ]
  },
  {
   "cell_type": "code",
   "execution_count": 363,
   "metadata": {
    "pycharm": {
     "name": "#%%\n"
    }
   },
   "outputs": [
    {
     "name": "stdout",
     "output_type": "stream",
     "text": [
      "Roc-auc by RandomForestClassifier is 0.8667478343258782\n"
     ]
    }
   ],
   "source": [
    "lst = dict(zip(names, roc_grid_scores))\n",
    "lst = sorted(lst.items(), reverse=True)\n",
    "print(f'Roc-auc by {lst[0][0]} is {lst[0][1]}')"
   ]
  },
  {
   "cell_type": "code",
   "execution_count": null,
   "metadata": {
    "pycharm": {
     "name": "#%%\n"
    }
   },
   "outputs": [],
   "source": []
  }
 ],
 "metadata": {
  "kernelspec": {
   "display_name": "Python 3.10.6 ('.venv': poetry)",
   "language": "python",
   "name": "python3"
  },
  "language_info": {
   "codemirror_mode": {
    "name": "ipython",
    "version": 3
   },
   "file_extension": ".py",
   "mimetype": "text/x-python",
   "name": "python",
   "nbconvert_exporter": "python",
   "pygments_lexer": "ipython3",
   "version": "3.10.6"
  },
  "vscode": {
   "interpreter": {
    "hash": "138d51effc9043574312307a8553d3aec8acacb34e7f0e2b9f7704efba7675db"
   }
  }
 },
 "nbformat": 4,
 "nbformat_minor": 4
}
