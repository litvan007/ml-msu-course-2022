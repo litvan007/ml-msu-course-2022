{
 "cells": [
  {
   "cell_type": "code",
   "execution_count": 1,
   "metadata": {
    "pycharm": {
     "name": "#%%\n"
    }
   },
   "outputs": [],
   "source": [
    "import pandas as pd\n",
    "import numpy as np\n",
    "import pandasql as psql\n",
    "\n",
    "import matplotlib.pyplot as plt"
   ]
  },
  {
   "cell_type": "markdown",
   "metadata": {
    "pycharm": {
     "name": "#%% md\n"
    }
   },
   "source": [
    "## Read the data"
   ]
  },
  {
   "cell_type": "code",
   "execution_count": 2,
   "metadata": {
    "pycharm": {
     "name": "#%%\n"
    }
   },
   "outputs": [],
   "source": [
    "db = pd.read_csv(\"db.csv\")"
   ]
  },
  {
   "cell_type": "code",
   "execution_count": 3,
   "metadata": {
    "pycharm": {
     "name": "#%%\n"
    }
   },
   "outputs": [
    {
     "data": {
      "text/html": [
       "<div>\n",
       "<style scoped>\n",
       "    .dataframe tbody tr th:only-of-type {\n",
       "        vertical-align: middle;\n",
       "    }\n",
       "\n",
       "    .dataframe tbody tr th {\n",
       "        vertical-align: top;\n",
       "    }\n",
       "\n",
       "    .dataframe thead th {\n",
       "        text-align: right;\n",
       "    }\n",
       "</style>\n",
       "<table border=\"1\" class=\"dataframe\">\n",
       "  <thead>\n",
       "    <tr style=\"text-align: right;\">\n",
       "      <th></th>\n",
       "      <th>dt</th>\n",
       "      <th>dttm</th>\n",
       "      <th>user_id</th>\n",
       "      <th>order_id</th>\n",
       "      <th>card_id</th>\n",
       "      <th>amount</th>\n",
       "    </tr>\n",
       "  </thead>\n",
       "  <tbody>\n",
       "    <tr>\n",
       "      <th>0</th>\n",
       "      <td>2022-09-07</td>\n",
       "      <td>2022-09-07 03:08:15</td>\n",
       "      <td>288981</td>\n",
       "      <td>c8b783b9d0a80c01</td>\n",
       "      <td>NaN</td>\n",
       "      <td>349.69</td>\n",
       "    </tr>\n",
       "    <tr>\n",
       "      <th>1</th>\n",
       "      <td>2022-09-05</td>\n",
       "      <td>2022-09-05 21:50:53</td>\n",
       "      <td>73078</td>\n",
       "      <td>1a04f965818a8533</td>\n",
       "      <td>NaN</td>\n",
       "      <td>348.61</td>\n",
       "    </tr>\n",
       "    <tr>\n",
       "      <th>2</th>\n",
       "      <td>2022-09-07</td>\n",
       "      <td>2022-09-07 21:07:51</td>\n",
       "      <td>840231</td>\n",
       "      <td>d58cc99982459ca8</td>\n",
       "      <td>card_27253445de7e4ce1</td>\n",
       "      <td>338.20</td>\n",
       "    </tr>\n",
       "    <tr>\n",
       "      <th>3</th>\n",
       "      <td>2022-09-26</td>\n",
       "      <td>2022-09-26 13:22:26</td>\n",
       "      <td>941870</td>\n",
       "      <td>d28a3097fa7cf63a</td>\n",
       "      <td>card_e1c1c18c55ad8fad</td>\n",
       "      <td>350.84</td>\n",
       "    </tr>\n",
       "    <tr>\n",
       "      <th>4</th>\n",
       "      <td>2022-09-12</td>\n",
       "      <td>2022-09-12 02:08:12</td>\n",
       "      <td>78581</td>\n",
       "      <td>99ba5c4097c6b8fe</td>\n",
       "      <td>card_e74c628e8a944744</td>\n",
       "      <td>349.94</td>\n",
       "    </tr>\n",
       "    <tr>\n",
       "      <th>...</th>\n",
       "      <td>...</td>\n",
       "      <td>...</td>\n",
       "      <td>...</td>\n",
       "      <td>...</td>\n",
       "      <td>...</td>\n",
       "      <td>...</td>\n",
       "    </tr>\n",
       "    <tr>\n",
       "      <th>9995</th>\n",
       "      <td>2022-09-28</td>\n",
       "      <td>2022-09-28 15:26:50</td>\n",
       "      <td>763283</td>\n",
       "      <td>ba1b3eba322eab5d</td>\n",
       "      <td>card_a598e7d200bf0255</td>\n",
       "      <td>359.77</td>\n",
       "    </tr>\n",
       "    <tr>\n",
       "      <th>9996</th>\n",
       "      <td>2022-09-24</td>\n",
       "      <td>2022-09-24 16:34:11</td>\n",
       "      <td>646422</td>\n",
       "      <td>c3e0c62ee91db8dc</td>\n",
       "      <td>NaN</td>\n",
       "      <td>348.19</td>\n",
       "    </tr>\n",
       "    <tr>\n",
       "      <th>9997</th>\n",
       "      <td>2022-09-17</td>\n",
       "      <td>2022-09-17 01:21:43</td>\n",
       "      <td>492140</td>\n",
       "      <td>82edc5c9e2103567</td>\n",
       "      <td>card_129f7e8b78dd0ea4</td>\n",
       "      <td>348.92</td>\n",
       "    </tr>\n",
       "    <tr>\n",
       "      <th>9998</th>\n",
       "      <td>2022-09-14</td>\n",
       "      <td>2022-09-14 17:30:54</td>\n",
       "      <td>851960</td>\n",
       "      <td>0ed9422357395a0d</td>\n",
       "      <td>card_e743a09119938490</td>\n",
       "      <td>350.10</td>\n",
       "    </tr>\n",
       "    <tr>\n",
       "      <th>9999</th>\n",
       "      <td>2022-09-28</td>\n",
       "      <td>2022-09-28 06:10:49</td>\n",
       "      <td>787508</td>\n",
       "      <td>9308b0d6e5898366</td>\n",
       "      <td>NaN</td>\n",
       "      <td>342.67</td>\n",
       "    </tr>\n",
       "  </tbody>\n",
       "</table>\n",
       "<p>10000 rows × 6 columns</p>\n",
       "</div>"
      ],
      "text/plain": [
       "              dt                 dttm  user_id          order_id  \\\n",
       "0     2022-09-07  2022-09-07 03:08:15   288981  c8b783b9d0a80c01   \n",
       "1     2022-09-05  2022-09-05 21:50:53    73078  1a04f965818a8533   \n",
       "2     2022-09-07  2022-09-07 21:07:51   840231  d58cc99982459ca8   \n",
       "3     2022-09-26  2022-09-26 13:22:26   941870  d28a3097fa7cf63a   \n",
       "4     2022-09-12  2022-09-12 02:08:12    78581  99ba5c4097c6b8fe   \n",
       "...          ...                  ...      ...               ...   \n",
       "9995  2022-09-28  2022-09-28 15:26:50   763283  ba1b3eba322eab5d   \n",
       "9996  2022-09-24  2022-09-24 16:34:11   646422  c3e0c62ee91db8dc   \n",
       "9997  2022-09-17  2022-09-17 01:21:43   492140  82edc5c9e2103567   \n",
       "9998  2022-09-14  2022-09-14 17:30:54   851960  0ed9422357395a0d   \n",
       "9999  2022-09-28  2022-09-28 06:10:49   787508  9308b0d6e5898366   \n",
       "\n",
       "                    card_id  amount  \n",
       "0                       NaN  349.69  \n",
       "1                       NaN  348.61  \n",
       "2     card_27253445de7e4ce1  338.20  \n",
       "3     card_e1c1c18c55ad8fad  350.84  \n",
       "4     card_e74c628e8a944744  349.94  \n",
       "...                     ...     ...  \n",
       "9995  card_a598e7d200bf0255  359.77  \n",
       "9996                    NaN  348.19  \n",
       "9997  card_129f7e8b78dd0ea4  348.92  \n",
       "9998  card_e743a09119938490  350.10  \n",
       "9999                    NaN  342.67  \n",
       "\n",
       "[10000 rows x 6 columns]"
      ]
     },
     "execution_count": 3,
     "metadata": {},
     "output_type": "execute_result"
    }
   ],
   "source": [
    "db"
   ]
  },
  {
   "cell_type": "markdown",
   "metadata": {
    "pycharm": {
     "name": "#%% md\n"
    }
   },
   "source": [
    "## Basic queries"
   ]
  },
  {
   "cell_type": "markdown",
   "metadata": {
    "pycharm": {
     "name": "#%% md\n"
    }
   },
   "source": [
    "**[EXAMPLE]** Grep all rows and all columns"
   ]
  },
  {
   "cell_type": "code",
   "execution_count": 4,
   "metadata": {
    "pycharm": {
     "name": "#%%\n"
    },
    "scrolled": true
   },
   "outputs": [
    {
     "name": "stdout",
     "output_type": "stream",
     "text": [
      "              dt                 dttm  user_id          order_id  \\\n",
      "0     2022-09-07  2022-09-07 03:08:15   288981  c8b783b9d0a80c01   \n",
      "1     2022-09-05  2022-09-05 21:50:53    73078  1a04f965818a8533   \n",
      "2     2022-09-07  2022-09-07 21:07:51   840231  d58cc99982459ca8   \n",
      "3     2022-09-26  2022-09-26 13:22:26   941870  d28a3097fa7cf63a   \n",
      "4     2022-09-12  2022-09-12 02:08:12    78581  99ba5c4097c6b8fe   \n",
      "...          ...                  ...      ...               ...   \n",
      "9995  2022-09-28  2022-09-28 15:26:50   763283  ba1b3eba322eab5d   \n",
      "9996  2022-09-24  2022-09-24 16:34:11   646422  c3e0c62ee91db8dc   \n",
      "9997  2022-09-17  2022-09-17 01:21:43   492140  82edc5c9e2103567   \n",
      "9998  2022-09-14  2022-09-14 17:30:54   851960  0ed9422357395a0d   \n",
      "9999  2022-09-28  2022-09-28 06:10:49   787508  9308b0d6e5898366   \n",
      "\n",
      "                    card_id  amount  \n",
      "0                      None  349.69  \n",
      "1                      None  348.61  \n",
      "2     card_27253445de7e4ce1  338.20  \n",
      "3     card_e1c1c18c55ad8fad  350.84  \n",
      "4     card_e74c628e8a944744  349.94  \n",
      "...                     ...     ...  \n",
      "9995  card_a598e7d200bf0255  359.77  \n",
      "9996                   None  348.19  \n",
      "9997  card_129f7e8b78dd0ea4  348.92  \n",
      "9998  card_e743a09119938490  350.10  \n",
      "9999                   None  342.67  \n",
      "\n",
      "[10000 rows x 6 columns]\n"
     ]
    }
   ],
   "source": [
    "q = \"\"\"\n",
    "SELECT\n",
    "    *\n",
    "FROM db\n",
    "\"\"\"\n",
    "\n",
    "print(psql.sqldf(q))"
   ]
  },
  {
   "cell_type": "markdown",
   "metadata": {
    "pycharm": {
     "name": "#%% md\n"
    }
   },
   "source": [
    "**[EXAMPLE]** Grep all `user_id` and `order_id` pairs"
   ]
  },
  {
   "cell_type": "code",
   "execution_count": 5,
   "metadata": {
    "pycharm": {
     "name": "#%%\n"
    },
    "scrolled": false
   },
   "outputs": [
    {
     "name": "stdout",
     "output_type": "stream",
     "text": [
      "      user_id          order_id\n",
      "0      288981  c8b783b9d0a80c01\n",
      "1       73078  1a04f965818a8533\n",
      "2      840231  d58cc99982459ca8\n",
      "3      941870  d28a3097fa7cf63a\n",
      "4       78581  99ba5c4097c6b8fe\n",
      "...       ...               ...\n",
      "9995   763283  ba1b3eba322eab5d\n",
      "9996   646422  c3e0c62ee91db8dc\n",
      "9997   492140  82edc5c9e2103567\n",
      "9998   851960  0ed9422357395a0d\n",
      "9999   787508  9308b0d6e5898366\n",
      "\n",
      "[10000 rows x 2 columns]\n"
     ]
    }
   ],
   "source": [
    "q = \"\"\"\n",
    "SELECT\n",
    "    user_id,\n",
    "    order_id\n",
    "FROM db\n",
    "\"\"\"\n",
    "\n",
    "print(psql.sqldf(q))"
   ]
  },
  {
   "cell_type": "markdown",
   "metadata": {
    "pycharm": {
     "name": "#%% md\n"
    }
   },
   "source": [
    "**[EXAMPLE]** Grep 100 `order_ids`"
   ]
  },
  {
   "cell_type": "code",
   "execution_count": 6,
   "metadata": {
    "pycharm": {
     "name": "#%%\n"
    },
    "scrolled": false
   },
   "outputs": [
    {
     "name": "stdout",
     "output_type": "stream",
     "text": [
      "            order_id\n",
      "0   c8b783b9d0a80c01\n",
      "1   1a04f965818a8533\n",
      "2   d58cc99982459ca8\n",
      "3   d28a3097fa7cf63a\n",
      "4   99ba5c4097c6b8fe\n",
      "..               ...\n",
      "95  d139db6a236200b2\n",
      "96  8d3215ae97598264\n",
      "97  46f5ffb3777b7659\n",
      "98  07bb5fdef1ee99d3\n",
      "99  94c4dd41f9dddce6\n",
      "\n",
      "[100 rows x 1 columns]\n"
     ]
    }
   ],
   "source": [
    "q = \"\"\"\n",
    "SELECT\n",
    "    order_id\n",
    "FROM db\n",
    "LIMIT 100\n",
    "\"\"\"\n",
    "\n",
    "print(psql.sqldf(q))"
   ]
  },
  {
   "cell_type": "markdown",
   "metadata": {
    "pycharm": {
     "name": "#%% md\n"
    }
   },
   "source": [
    "**[EXAMPLE]** Grep `dts` and `order_ids` that were on Sep 13th"
   ]
  },
  {
   "cell_type": "code",
   "execution_count": 7,
   "metadata": {
    "pycharm": {
     "name": "#%%\n"
    },
    "scrolled": false
   },
   "outputs": [
    {
     "name": "stdout",
     "output_type": "stream",
     "text": [
      "             dt          order_id\n",
      "0    2022-09-13  c2ba1bc54b239208\n",
      "1    2022-09-13  87ae6fb631f7c8a6\n",
      "2    2022-09-13  1147dc16a8e1b44e\n",
      "3    2022-09-13  1bf2efbbe0c49b9f\n",
      "4    2022-09-13  076023edc9187cf1\n",
      "..          ...               ...\n",
      "351  2022-09-13  cd474f6341aeffd6\n",
      "352  2022-09-13  b53477c2821c1bf0\n",
      "353  2022-09-13  1ef91c212e30e14b\n",
      "354  2022-09-13  16bb35ba24bac33d\n",
      "355  2022-09-13  e721a54a8cf18c85\n",
      "\n",
      "[356 rows x 2 columns]\n"
     ]
    }
   ],
   "source": [
    "q = \"\"\"\n",
    "SELECT\n",
    "    dt,\n",
    "    order_id\n",
    "FROM db\n",
    "WHERE dt == \"2022-09-13\"\n",
    "\"\"\"\n",
    "\n",
    "print(psql.sqldf(q))"
   ]
  },
  {
   "cell_type": "markdown",
   "metadata": {
    "pycharm": {
     "name": "#%% md\n"
    }
   },
   "source": [
    "**[EXAMPLE]** Grep `dttms` and `order_ids` that were on Sep 13th before **9 AM**. \n",
    "\n",
    "**Order** the input by date and time"
   ]
  },
  {
   "cell_type": "code",
   "execution_count": 8,
   "metadata": {
    "pycharm": {
     "name": "#%%\n"
    },
    "scrolled": false
   },
   "outputs": [
    {
     "name": "stdout",
     "output_type": "stream",
     "text": [
      "                    dttm          order_id\n",
      "0    2022-09-13 00:01:18  51a472c08e21aef5\n",
      "1    2022-09-13 00:02:39  e105b88b3e1ac23e\n",
      "2    2022-09-13 00:05:45  63eb58bd4d3486f0\n",
      "3    2022-09-13 00:06:44  37d097caf1299d9a\n",
      "4    2022-09-13 00:12:52  c36b1132ac829ece\n",
      "..                   ...               ...\n",
      "132  2022-09-13 08:44:28  78421a2e0e1168e5\n",
      "133  2022-09-13 08:46:43  6b4e2b9376139fa0\n",
      "134  2022-09-13 08:47:37  305ddad049f65a2c\n",
      "135  2022-09-13 08:51:26  dca49d1a5928cb1c\n",
      "136  2022-09-13 08:53:06  4c525a48acc0084b\n",
      "\n",
      "[137 rows x 2 columns]\n"
     ]
    }
   ],
   "source": [
    "q = \"\"\"\n",
    "SELECT\n",
    "    dttm,\n",
    "    order_id\n",
    "FROM db\n",
    "WHERE \n",
    "    dt == \"2022-09-13\"\n",
    "    AND dttm <= \"2022-09-13 08:59:59\"\n",
    "ORDER BY dttm\n",
    "\"\"\"\n",
    "\n",
    "print(psql.sqldf(q))"
   ]
  },
  {
   "cell_type": "markdown",
   "metadata": {
    "pycharm": {
     "name": "#%% md\n"
    }
   },
   "source": [
    "## Aggregations"
   ]
  },
  {
   "cell_type": "markdown",
   "metadata": {
    "pycharm": {
     "name": "#%% md\n"
    }
   },
   "source": [
    "**[EXAMPLE]** Count rows in the table"
   ]
  },
  {
   "cell_type": "code",
   "execution_count": 9,
   "metadata": {
    "pycharm": {
     "name": "#%%\n"
    },
    "scrolled": false
   },
   "outputs": [
    {
     "name": "stdout",
     "output_type": "stream",
     "text": [
      "   COUNT(*)\n",
      "0     10000\n"
     ]
    }
   ],
   "source": [
    "q = \"\"\"\n",
    "SELECT\n",
    "    COUNT(*)\n",
    "FROM db\n",
    "\"\"\"\n",
    "\n",
    "print(psql.sqldf(q))"
   ]
  },
  {
   "cell_type": "markdown",
   "metadata": {
    "pycharm": {
     "name": "#%% md\n"
    }
   },
   "source": [
    "**[EXAMPLE]** Count number of distinct users"
   ]
  },
  {
   "cell_type": "code",
   "execution_count": 10,
   "metadata": {
    "pycharm": {
     "name": "#%%\n"
    },
    "scrolled": false
   },
   "outputs": [
    {
     "name": "stdout",
     "output_type": "stream",
     "text": [
      "   COUNT(DISTINCT user_id)\n",
      "0                     5310\n"
     ]
    }
   ],
   "source": [
    "q = \"\"\"\n",
    "SELECT\n",
    "    COUNT(DISTINCT user_id)\n",
    "FROM db as dbex;\n",
    "\"\"\"\n",
    "\n",
    "print(psql.sqldf(q))"
   ]
  },
  {
   "cell_type": "markdown",
   "metadata": {
    "pycharm": {
     "name": "#%% md\n"
    }
   },
   "source": [
    "**[EXAMPLE]** Count number of orders with non-empty cards"
   ]
  },
  {
   "cell_type": "code",
   "execution_count": 11,
   "metadata": {
    "pycharm": {
     "name": "#%%\n"
    },
    "scrolled": false
   },
   "outputs": [
    {
     "name": "stdout",
     "output_type": "stream",
     "text": [
      "   COUNT(card_id)\n",
      "0            7427\n"
     ]
    }
   ],
   "source": [
    "q = \"\"\"\n",
    "SELECT\n",
    "    COUNT(card_id)\n",
    "FROM db\n",
    "\"\"\"\n",
    "\n",
    "print(psql.sqldf(q))"
   ]
  },
  {
   "cell_type": "markdown",
   "metadata": {
    "pycharm": {
     "name": "#%% md\n"
    }
   },
   "source": [
    "**[TASK 1]** Find rate of orders that were payed by card"
   ]
  },
  {
   "cell_type": "code",
   "execution_count": 12,
   "metadata": {
    "pycharm": {
     "name": "#%%\n"
    },
    "scrolled": false
   },
   "outputs": [
    {
     "name": "stdout",
     "output_type": "stream",
     "text": [
      "   Rate of orders\n",
      "0          0.7427\n"
     ]
    }
   ],
   "source": [
    "q = \"\"\"\n",
    "SELECT\n",
    "    CAST(COUNT(card_id) AS FLOAT)/COUNT(*) AS `Rate of orders`\n",
    "FROM db\n",
    "\"\"\"\n",
    "\n",
    "q = \"\"\"\n",
    "SELECT\n",
    "    COUNT(card_id)*1.0/COUNT(*) AS `Rate of orders`\n",
    "FROM db\n",
    "\"\"\"\n",
    "\n",
    "print(psql.sqldf(q))"
   ]
  },
  {
   "cell_type": "markdown",
   "metadata": {
    "pycharm": {
     "name": "#%% md\n"
    }
   },
   "source": [
    "**[TASK 2]** Find the largest order cost"
   ]
  },
  {
   "cell_type": "code",
   "execution_count": 13,
   "metadata": {
    "pycharm": {
     "name": "#%%\n"
    },
    "scrolled": false
   },
   "outputs": [
    {
     "name": "stdout",
     "output_type": "stream",
     "text": [
      "   MAX(amount)\n",
      "0       408.52\n"
     ]
    }
   ],
   "source": [
    "q = \"\"\"\n",
    "SELECT\n",
    "    MAX(amount)\n",
    "FROM db\n",
    "\"\"\"\n",
    "\n",
    "print(psql.sqldf(q))"
   ]
  },
  {
   "cell_type": "markdown",
   "metadata": {
    "pycharm": {
     "name": "#%% md\n"
    }
   },
   "source": [
    "**[TASK 3]** Find number of percents by which the most expensive order is bigger than average order. Round to 2 digits afer the comma"
   ]
  },
  {
   "cell_type": "code",
   "execution_count": 14,
   "metadata": {
    "pycharm": {
     "name": "#%%\n"
    },
    "scrolled": true
   },
   "outputs": [
    {
     "name": "stdout",
     "output_type": "stream",
     "text": [
      "   ROUND((MAX(amount) - AVG(amount)) / MAX(amount) * 100, 2)\n",
      "0                                              14.31        \n"
     ]
    }
   ],
   "source": [
    "q = \"\"\"\n",
    "SELECT\n",
    "    ROUND((MAX(amount) - AVG(amount)) / MAX(amount) * 100, 2)\n",
    "FROM db\n",
    "\"\"\"\n",
    "\n",
    "print(psql.sqldf(q))"
   ]
  },
  {
   "cell_type": "markdown",
   "metadata": {
    "pycharm": {
     "name": "#%% md\n"
    }
   },
   "source": [
    "**[TASK 4]** Count number of users that have made an order with amount larger then 400"
   ]
  },
  {
   "cell_type": "code",
   "execution_count": 15,
   "metadata": {
    "pycharm": {
     "name": "#%%\n"
    },
    "scrolled": false
   },
   "outputs": [
    {
     "name": "stdout",
     "output_type": "stream",
     "text": [
      "   Number of users that have made order with amount laher than 400\n",
      "0                                                  5              \n"
     ]
    }
   ],
   "source": [
    "q = \"\"\"\n",
    "SELECT\n",
    "    COUNT(DISTINCT user_id) AS `Number of users that have made order with amount laher than 400`\n",
    "FROM db\n",
    "WHERE \n",
    "    amount > 400\n",
    "\"\"\"\n",
    "\n",
    "print(psql.sqldf(q))"
   ]
  },
  {
   "cell_type": "markdown",
   "metadata": {
    "pycharm": {
     "name": "#%% md\n"
    }
   },
   "source": [
    "**[TASK 5]** Find sum of all orders payed by card"
   ]
  },
  {
   "cell_type": "code",
   "execution_count": 16,
   "metadata": {
    "pycharm": {
     "name": "#%%\n"
    },
    "scrolled": false
   },
   "outputs": [
    {
     "name": "stdout",
     "output_type": "stream",
     "text": [
      "   SUM(amount)\n",
      "0   2599385.71\n"
     ]
    }
   ],
   "source": [
    "q = \"\"\"\n",
    "SELECT \n",
    "    SUM(amount)\n",
    "FROM db\n",
    "WHERE\n",
    "    card_id IS NOT NULL\n",
    "\"\"\"\n",
    "\n",
    "print(psql.sqldf(q))"
   ]
  },
  {
   "cell_type": "markdown",
   "metadata": {
    "pycharm": {
     "name": "#%% md\n"
    }
   },
   "source": [
    "## GROUP BY and SUBQUERIES"
   ]
  },
  {
   "cell_type": "markdown",
   "metadata": {
    "pycharm": {
     "name": "#%% md\n"
    }
   },
   "source": [
    "**[EXAMPLE]** Get number of orders per each user. Sort the output by the number of orders descending"
   ]
  },
  {
   "cell_type": "code",
   "execution_count": 17,
   "metadata": {
    "pycharm": {
     "name": "#%%\n"
    },
    "scrolled": false
   },
   "outputs": [
    {
     "name": "stdout",
     "output_type": "stream",
     "text": [
      "      user_id  orders_cnt\n",
      "0      140054           8\n",
      "1      723085           7\n",
      "2      607597           7\n",
      "3      466442           7\n",
      "4      958068           6\n",
      "...       ...         ...\n",
      "5305     2379           1\n",
      "5306     2272           1\n",
      "5307     1936           1\n",
      "5308     1767           1\n",
      "5309     1183           1\n",
      "\n",
      "[5310 rows x 2 columns]\n"
     ]
    }
   ],
   "source": [
    "q = \"\"\"\n",
    "SELECT\n",
    "    user_id,\n",
    "    COUNT(order_id) AS orders_cnt\n",
    "FROM db\n",
    "GROUP BY user_id\n",
    "ORDER BY orders_cnt DESC\n",
    "\"\"\"\n",
    "\n",
    "print(psql.sqldf(q))"
   ]
  },
  {
   "cell_type": "markdown",
   "metadata": {
    "pycharm": {
     "name": "#%% md\n"
    }
   },
   "source": [
    "**[EXAMPLE]** Find user_ids that have spent more than 1000 amnt"
   ]
  },
  {
   "cell_type": "code",
   "execution_count": 18,
   "metadata": {
    "pycharm": {
     "name": "#%%\n"
    },
    "scrolled": false
   },
   "outputs": [
    {
     "name": "stdout",
     "output_type": "stream",
     "text": [
      "      user_id\n",
      "0         700\n",
      "1        1386\n",
      "2        1979\n",
      "3        2357\n",
      "4        3980\n",
      "...       ...\n",
      "1197   995646\n",
      "1198   995807\n",
      "1199   996769\n",
      "1200   997780\n",
      "1201   999663\n",
      "\n",
      "[1202 rows x 1 columns]\n"
     ]
    }
   ],
   "source": [
    "q = \"\"\"\n",
    "SELECT\n",
    "    user_id\n",
    "FROM db\n",
    "GROUP BY user_id\n",
    "HAVING SUM(amount) > 1000\n",
    "\"\"\"\n",
    "\n",
    "print(psql.sqldf(q))"
   ]
  },
  {
   "cell_type": "markdown",
   "metadata": {
    "pycharm": {
     "name": "#%% md\n"
    }
   },
   "source": [
    "**[EXAMPLE]** Lets call a user lifetime  a difference in days between first order and last order. Find all users lifetimes and sort by them in a descending order"
   ]
  },
  {
   "cell_type": "code",
   "execution_count": 19,
   "metadata": {
    "pycharm": {
     "name": "#%%\n"
    },
    "scrolled": false
   },
   "outputs": [
    {
     "name": "stdout",
     "output_type": "stream",
     "text": [
      "      user_id  diff\n",
      "0      957002    29\n",
      "1      769577    29\n",
      "2      721349    29\n",
      "3      545598    29\n",
      "4      336668    29\n",
      "...       ...   ...\n",
      "5305     2379     0\n",
      "5306     2272     0\n",
      "5307     1936     0\n",
      "5308     1767     0\n",
      "5309     1183     0\n",
      "\n",
      "[5310 rows x 2 columns]\n"
     ]
    }
   ],
   "source": [
    "q = \"\"\"\n",
    "SELECT\n",
    "    user_id,\n",
    "    CAST(strftime(\"%d\", MAX(dt)) AS Int32) - CAST(strftime(\"%d\", MIN(dt)) AS Int32) AS diff\n",
    "FROM db\n",
    "GROUP BY user_id\n",
    "ORDER BY diff DESC\n",
    "\"\"\"\n",
    "\n",
    "print(psql.sqldf(q))"
   ]
  },
  {
   "cell_type": "markdown",
   "metadata": {
    "pycharm": {
     "name": "#%% md\n"
    }
   },
   "source": [
    "**[TASK 6]** Calculate average user lifetime"
   ]
  },
  {
   "cell_type": "code",
   "execution_count": 20,
   "metadata": {},
   "outputs": [
    {
     "name": "stdout",
     "output_type": "stream",
     "text": [
      "   STD LIFETIME\n",
      "0       6.87194\n"
     ]
    }
   ],
   "source": [
    "q = \"\"\"\n",
    "SELECT\n",
    "    AVG(diff) AS `STD LIFETIME`\n",
    "FROM (SELECT\n",
    "    user_id,\n",
    "    CAST(strftime(\"%d\", MAX(dt)) AS Int32) - CAST(strftime(\"%d\", MIN(dt)) AS Int32) AS diff\n",
    "FROM db\n",
    "GROUP BY user_id\n",
    "ORDER BY diff DESC)\n",
    "\"\"\"\n",
    "\n",
    "print(psql.sqldf(q))"
   ]
  },
  {
   "cell_type": "code",
   "execution_count": 21,
   "metadata": {
    "pycharm": {
     "name": "#%%\n"
    },
    "scrolled": false
   },
   "outputs": [
    {
     "name": "stdout",
     "output_type": "stream",
     "text": [
      "      user_id  AVG TIME\n",
      "0         700         7\n",
      "1         956         7\n",
      "2         975         7\n",
      "3        1183         7\n",
      "4        1386         7\n",
      "...       ...       ...\n",
      "5305   999428         7\n",
      "5306   999591         7\n",
      "5307   999663         7\n",
      "5308   999750         7\n",
      "5309   999889         7\n",
      "\n",
      "[5310 rows x 2 columns]\n"
     ]
    }
   ],
   "source": [
    "q = \"\"\"\n",
    "SELECT\n",
    "    user_id, CAST(strftime(\"%d\", AVG(dt)) AS Int32) AS `AVG TIME`\n",
    "FROM db\n",
    "GROUP BY user_id\n",
    "\"\"\"\n",
    "\n",
    "print(psql.sqldf(q))"
   ]
  },
  {
   "cell_type": "markdown",
   "metadata": {
    "pycharm": {
     "name": "#%% md\n"
    }
   },
   "source": [
    "## Join"
   ]
  },
  {
   "cell_type": "markdown",
   "metadata": {
    "pycharm": {
     "name": "#%% md\n"
    }
   },
   "source": [
    "**[EXAMPLE]** Let's consider user to be loyal, if they made at least 5 orders. Output all orders of loyal users."
   ]
  },
  {
   "cell_type": "code",
   "execution_count": 22,
   "metadata": {
    "pycharm": {
     "name": "#%%\n"
    },
    "scrolled": false
   },
   "outputs": [
    {
     "name": "stdout",
     "output_type": "stream",
     "text": [
      "             order_id  user_id category\n",
      "0    8844c5f00372df2c   624306    LOYAL\n",
      "1    f84d465177e84bb4   252406    LOYAL\n",
      "2    c629a1a0a8913790   337714    LOYAL\n",
      "3    96f2d6069db8ad89   607597    LOYAL\n",
      "4    fa47a8afc054461b   342492    LOYAL\n",
      "..                ...      ...      ...\n",
      "625  4ff3e350028d0cfc   258470    LOYAL\n",
      "626  b21d2f86beb19214   759371    LOYAL\n",
      "627  8526e0962a844e4a   145709    LOYAL\n",
      "628  8eefcfdf5990e441   952675    LOYAL\n",
      "629  c3e0c62ee91db8dc   646422    LOYAL\n",
      "\n",
      "[630 rows x 3 columns]\n"
     ]
    }
   ],
   "source": [
    "q = \"\"\"\n",
    "SELECT\n",
    "    order_id,\n",
    "    user_id,\n",
    "    t2.category AS category\n",
    "FROM db AS t1\n",
    "INNER JOIN (\n",
    "    SELECT\n",
    "        user_id,\n",
    "        \"LOYAL\" AS category\n",
    "    FROM db\n",
    "    GROUP BY user_id\n",
    "    HAVING COUNT(*) >= 5\n",
    ")AS t2 USING(user_id)\n",
    "\"\"\"\n",
    "\n",
    "print(psql.sqldf(q))"
   ]
  },
  {
   "cell_type": "code",
   "execution_count": 23,
   "metadata": {},
   "outputs": [
    {
     "name": "stdout",
     "output_type": "stream",
     "text": [
      "              order_id  user_id category\n",
      "0     c8b783b9d0a80c01   288981     None\n",
      "1     1a04f965818a8533    73078     None\n",
      "2     d58cc99982459ca8   840231     None\n",
      "3     d28a3097fa7cf63a   941870     None\n",
      "4     99ba5c4097c6b8fe    78581     None\n",
      "...                ...      ...      ...\n",
      "9995  ba1b3eba322eab5d   763283     None\n",
      "9996  c3e0c62ee91db8dc   646422    LOYAL\n",
      "9997  82edc5c9e2103567   492140     None\n",
      "9998  0ed9422357395a0d   851960     None\n",
      "9999  9308b0d6e5898366   787508     None\n",
      "\n",
      "[10000 rows x 3 columns]\n"
     ]
    }
   ],
   "source": [
    "q = \"\"\"\n",
    "SELECT\n",
    "    order_id,\n",
    "    user_id,\n",
    "    t2.category AS category\n",
    "FROM db AS t1\n",
    "LEFT JOIN (\n",
    "    SELECT\n",
    "        user_id,\n",
    "        \"LOYAL\" AS category\n",
    "    FROM db\n",
    "    GROUP BY user_id\n",
    "    HAVING COUNT(*) >= 5\n",
    ")AS t2 USING(user_id)\n",
    "\"\"\"\n",
    "\n",
    "print(psql.sqldf(q))"
   ]
  },
  {
   "cell_type": "code",
   "execution_count": 24,
   "metadata": {},
   "outputs": [
    {
     "name": "stdout",
     "output_type": "stream",
     "text": [
      "             order_id  user_id category\n",
      "0    8844c5f00372df2c   624306    LOYAL\n",
      "1    f84d465177e84bb4   252406    LOYAL\n",
      "2    c629a1a0a8913790   337714    LOYAL\n",
      "3    96f2d6069db8ad89   607597    LOYAL\n",
      "4    fa47a8afc054461b   342492    LOYAL\n",
      "..                ...      ...      ...\n",
      "625  4ff3e350028d0cfc   258470    LOYAL\n",
      "626  b21d2f86beb19214   759371    LOYAL\n",
      "627  8526e0962a844e4a   145709    LOYAL\n",
      "628  8eefcfdf5990e441   952675    LOYAL\n",
      "629  c3e0c62ee91db8dc   646422    LOYAL\n",
      "\n",
      "[630 rows x 3 columns]\n"
     ]
    }
   ],
   "source": [
    "q = \"\"\"\n",
    "SELECT\n",
    "    order_id,\n",
    "    user_id,\n",
    "    t2.category AS category\n",
    "FROM db AS t1\n",
    "RIGHT JOIN (\n",
    "    SELECT \n",
    "        user_id,\n",
    "        \"LOYAL\" AS category\n",
    "    FROM db\n",
    "    GROUP BY user_id\n",
    "    HAVING COUNT(*) >= 5\n",
    ")AS t2 USING(user_id)\n",
    "\"\"\"\n",
    "\n",
    "print(psql.sqldf(q))"
   ]
  },
  {
   "cell_type": "markdown",
   "metadata": {
    "pycharm": {
     "name": "#%% md\n"
    }
   },
   "source": [
    "**[TASK 7]** Find orders of users that have both card and cardless orders"
   ]
  },
  {
   "cell_type": "code",
   "execution_count": 25,
   "metadata": {},
   "outputs": [
    {
     "name": "stdout",
     "output_type": "stream",
     "text": [
      "      user_id          order_id\n",
      "0      288981  c8b783b9d0a80c01\n",
      "1      840231  d58cc99982459ca8\n",
      "2       78581  99ba5c4097c6b8fe\n",
      "3      624306  8844c5f00372df2c\n",
      "4      252406  f84d465177e84bb4\n",
      "...       ...               ...\n",
      "3939   219838  1579779b98ce9edb\n",
      "3940   823422  851ddf5058cf22df\n",
      "3941    26786  64223ccf70bbb65a\n",
      "3942   646422  c3e0c62ee91db8dc\n",
      "3943   787508  9308b0d6e5898366\n",
      "\n",
      "[3944 rows x 2 columns]\n"
     ]
    }
   ],
   "source": [
    "q = \"\"\"\n",
    "SELECT\n",
    "    user_id, order_id\n",
    "FROM\n",
    "(SELECT\n",
    "    user_id\n",
    "FROM db\n",
    "GROUP BY user_id\n",
    "HAVING SUM(card_id IS NULL) > 0 AND SUM(card_id IS NOT NULL) > 0) AS x\n",
    "INNER JOIN db AS y USING(user_id)\n",
    "\"\"\"\n",
    "\n",
    "print(psql.sqldf(q))"
   ]
  },
  {
   "cell_type": "markdown",
   "metadata": {
    "pycharm": {
     "name": "#%% md\n"
    }
   },
   "source": [
    "**[TASK 8]** For each order display its absolute diff between its amount and min amount of the user"
   ]
  },
  {
   "cell_type": "code",
   "execution_count": 35,
   "metadata": {
    "pycharm": {
     "name": "#%%\n"
    },
    "scrolled": false
   },
   "outputs": [
    {
     "name": "stdout",
     "output_type": "stream",
     "text": [
      "      user_id  amount - MIN(amount)\n",
      "0         700                   0.0\n",
      "1         956                   0.0\n",
      "2         975                   0.0\n",
      "3        1183                   0.0\n",
      "4        1386                   0.0\n",
      "...       ...                   ...\n",
      "5305   999428                   0.0\n",
      "5306   999591                   0.0\n",
      "5307   999663                   0.0\n",
      "5308   999750                   0.0\n",
      "5309   999889                   0.0\n",
      "\n",
      "[5310 rows x 2 columns]\n"
     ]
    }
   ],
   "source": [
    "q = \"\"\"\n",
    "SELECT \n",
    "    user_id,\n",
    "    amount - MIN(amount)\n",
    "FROM db\n",
    "GROUP BY user_id\n",
    "\"\"\"\n",
    "\n",
    "print(psql.sqldf(q))"
   ]
  },
  {
   "cell_type": "markdown",
   "metadata": {
    "pycharm": {
     "name": "#%% md\n"
    }
   },
   "source": [
    "**[TASK 9]** For each user find chronologically first order_id"
   ]
  },
  {
   "cell_type": "code",
   "execution_count": 36,
   "metadata": {
    "pycharm": {
     "name": "#%%\n"
    },
    "scrolled": false
   },
   "outputs": [
    {
     "name": "stdout",
     "output_type": "stream",
     "text": [
      "      user_id                 dttm          order_id\n",
      "0      288981  2022-09-07 03:08:15  c8b783b9d0a80c01\n",
      "1       73078  2022-09-05 21:50:53  1a04f965818a8533\n",
      "2      840231  2022-09-07 21:07:51  d58cc99982459ca8\n",
      "3       78581  2022-09-12 02:08:12  99ba5c4097c6b8fe\n",
      "4      546767  2022-09-12 12:01:27  a012869311d64a44\n",
      "...       ...                  ...               ...\n",
      "5305    26786  2022-09-09 20:12:24  64223ccf70bbb65a\n",
      "5306   716011  2022-09-01 19:21:33  cf866614b6b18cda\n",
      "5307   182635  2022-09-17 23:29:01  e57c6b956a6521b2\n",
      "5308   492140  2022-09-17 01:21:43  82edc5c9e2103567\n",
      "5309   851960  2022-09-14 17:30:54  0ed9422357395a0d\n",
      "\n",
      "[5310 rows x 3 columns]\n"
     ]
    }
   ],
   "source": [
    "q = \"\"\"\n",
    "SELECT\n",
    "    x.user_id,\n",
    "    dttm, \n",
    "    order_id\n",
    "FROM db AS x\n",
    "INNER JOIN (\n",
    "    SELECT \n",
    "        user_id, MIN(dttm) as min_dttm\n",
    "    FROM db\n",
    "    GROUP BY user_id) AS y ON x.user_id = y.user_id AND x.dttm = y.min_dttm\n",
    "\"\"\"\n",
    "\n",
    "print(psql.sqldf(q))"
   ]
  },
  {
   "cell_type": "markdown",
   "metadata": {
    "pycharm": {
     "name": "#%% md\n"
    }
   },
   "source": [
    "## Window functions"
   ]
  },
  {
   "cell_type": "markdown",
   "metadata": {
    "pycharm": {
     "name": "#%% md\n"
    }
   },
   "source": [
    "**[EXAMPLE]** For each order display its number for the user"
   ]
  },
  {
   "cell_type": "code",
   "execution_count": 43,
   "metadata": {
    "pycharm": {
     "name": "#%%\n"
    },
    "scrolled": false
   },
   "outputs": [
    {
     "name": "stdout",
     "output_type": "stream",
     "text": [
      "           order_id  user_id                 dttm  order_rank\n",
      "0  d27b95cac4c27feb      700  2022-09-02 12:11:16           1\n",
      "1  bd4a6d0563e06045      700  2022-09-16 20:49:01           2\n",
      "2  6fe6a8a6e6cb7105      700  2022-09-20 22:04:14           3\n",
      "3  46771d1f432b4234      956  2022-09-04 05:48:28           1\n",
      "4  d93ed5b6db83be78      956  2022-09-17 17:27:43           2\n"
     ]
    }
   ],
   "source": [
    "q = \"\"\"\n",
    "SELECT\n",
    "    order_id,\n",
    "    user_id,\n",
    "    dttm,\n",
    "    ROW_NUMBER() OVER w AS order_rank\n",
    "FROM db\n",
    "WINDOW w AS (PARTITION BY user_id ORDER BY dttm)\n",
    "LIMIT 5\n",
    "\"\"\"\n",
    "\n",
    "print(psql.sqldf(q))"
   ]
  },
  {
   "cell_type": "markdown",
   "metadata": {
    "pycharm": {
     "name": "#%% md\n"
    }
   },
   "source": [
    "**[EXAMPLE]** For each order display running total amount per user"
   ]
  },
  {
   "cell_type": "code",
   "execution_count": 57,
   "metadata": {
    "pycharm": {
     "name": "#%%\n"
    },
    "scrolled": false
   },
   "outputs": [
    {
     "name": "stdout",
     "output_type": "stream",
     "text": [
      "           order_id  user_id        prev_order\n",
      "0  d27b95cac4c27feb      700              None\n",
      "1  bd4a6d0563e06045      700  d27b95cac4c27feb\n",
      "2  6fe6a8a6e6cb7105      700  bd4a6d0563e06045\n",
      "3  46771d1f432b4234      956              None\n",
      "4  d93ed5b6db83be78      956  46771d1f432b4234\n"
     ]
    }
   ],
   "source": [
    "q = \"\"\"\n",
    "SELECT\n",
    "    order_id,\n",
    "    user_id,\n",
    "    LAG(order_id, 1) OVER w AS prev_order\n",
    "FROM db\n",
    "WINDOW w AS (PARTITION BY user_id ORDER BY dttm)\n",
    "LIMIT 5\n",
    "\"\"\"\n",
    "\n",
    "print(psql.sqldf(q))"
   ]
  },
  {
   "cell_type": "markdown",
   "metadata": {
    "pycharm": {
     "name": "#%% md\n"
    }
   },
   "source": [
    "**[TASK]** For each order display if it is more expensive than previous one (function `LAG`, `LEAD`)"
   ]
  },
  {
   "cell_type": "code",
   "execution_count": 74,
   "metadata": {
    "pycharm": {
     "name": "#%%\n"
    },
    "scrolled": false
   },
   "outputs": [
    {
     "name": "stdout",
     "output_type": "stream",
     "text": [
      "      user_id          order_id  amount ISBIGGER_AMOUNT\n",
      "0         700  d27b95cac4c27feb  351.80           FALSE\n",
      "1         700  bd4a6d0563e06045  343.33           FALSE\n",
      "2         700  6fe6a8a6e6cb7105  331.83           FALSE\n",
      "3         956  46771d1f432b4234  333.24           FALSE\n",
      "4         956  d93ed5b6db83be78  377.99            TRUE\n",
      "...       ...               ...     ...             ...\n",
      "9995   999663  8c5b18cbdfd35320  364.91            TRUE\n",
      "9996   999663  4f5a9bf135f28535  363.05           FALSE\n",
      "9997   999750  ac4e7a4f341e7281  335.91           FALSE\n",
      "9998   999750  30dd22174d06b0cd  341.82            TRUE\n",
      "9999   999889  28d6abf291fdd1f2  353.26           FALSE\n",
      "\n",
      "[10000 rows x 4 columns]\n"
     ]
    }
   ],
   "source": [
    "q = \"\"\"\n",
    "SELECT \n",
    "    user_id,\n",
    "    order_id,\n",
    "    amount,\n",
    "    CASE\n",
    "        WHEN diff_amount > 0\n",
    "            THEN \"TRUE\"\n",
    "        ELSE \"FALSE\"\n",
    "    END AS ISBIGGER_AMOUNT\n",
    "FROM\n",
    "(SELECT\n",
    "    user_id,\n",
    "    order_id,\n",
    "    amount,\n",
    "    amount - LAG(amount, 1) OVER w AS diff_amount\n",
    "FROM db\n",
    "WINDOW w AS (PARTITION BY user_id ORDER BY dttm)\n",
    ")\n",
    "\"\"\"\n",
    "\n",
    "print(psql.sqldf(q))"
   ]
  },
  {
   "cell_type": "markdown",
   "metadata": {
    "pycharm": {
     "name": "#%% md\n"
    }
   },
   "source": [
    "**[TASK 10]** For each order display if it is the last order"
   ]
  },
  {
   "cell_type": "code",
   "execution_count": 97,
   "metadata": {
    "pycharm": {
     "name": "#%%\n"
    },
    "scrolled": false
   },
   "outputs": [
    {
     "name": "stdout",
     "output_type": "stream",
     "text": [
      "      user_id          order_id  next\n",
      "0         700  6fe6a8a6e6cb7105  None\n",
      "1         956  d93ed5b6db83be78  None\n",
      "2         975  964d180ea80d672a  None\n",
      "3        1183  211b39255232ab59  None\n",
      "4        1386  e7d4c8d4fe04d9b4  None\n",
      "...       ...               ...   ...\n",
      "5305   999428  88340338e0a0cdc5  None\n",
      "5306   999591  7d5430cf85f78c4b  None\n",
      "5307   999663  4f5a9bf135f28535  None\n",
      "5308   999750  30dd22174d06b0cd  None\n",
      "5309   999889  28d6abf291fdd1f2  None\n",
      "\n",
      "[5310 rows x 3 columns]\n"
     ]
    }
   ],
   "source": [
    "q = \"\"\"\n",
    "SELECT\n",
    "    user_id,\n",
    "    order_id,\n",
    "    next\n",
    "FROM\n",
    "(SELECT\n",
    "    user_id,\n",
    "    order_id,\n",
    "    LEAD(order_id) OVER w AS next\n",
    "FROM db\n",
    "WINDOW w AS (PARTITION BY user_id ORDER BY dttm))\n",
    "WHERE next IS NULL\n",
    "\"\"\"\n",
    "\n",
    "print(psql.sqldf(q))"
   ]
  },
  {
   "cell_type": "markdown",
   "metadata": {
    "pycharm": {
     "name": "#%% md\n"
    }
   },
   "source": [
    "**[TASK 11]** For each order user display the first order"
   ]
  },
  {
   "cell_type": "code",
   "execution_count": 96,
   "metadata": {
    "pycharm": {
     "name": "#%%\n"
    },
    "scrolled": false
   },
   "outputs": [
    {
     "name": "stdout",
     "output_type": "stream",
     "text": [
      "      user_id          order_id  prev\n",
      "0         700  d27b95cac4c27feb  None\n",
      "1         956  46771d1f432b4234  None\n",
      "2         975  c3c59e5f8b3e9753  None\n",
      "3        1183  211b39255232ab59  None\n",
      "4        1386  dbec0010cebb295f  None\n",
      "...       ...               ...   ...\n",
      "5305   999428  88340338e0a0cdc5  None\n",
      "5306   999591  aa108f56a10e75c1  None\n",
      "5307   999663  a118806694c9d9b1  None\n",
      "5308   999750  ac4e7a4f341e7281  None\n",
      "5309   999889  28d6abf291fdd1f2  None\n",
      "\n",
      "[5310 rows x 3 columns]\n"
     ]
    }
   ],
   "source": [
    "q = \"\"\"\n",
    "SELECT\n",
    "    user_id,\n",
    "    order_id,\n",
    "    prev\n",
    "FROM\n",
    "(SELECT\n",
    "    user_id,\n",
    "    order_id,\n",
    "    LAG(order_id) OVER w AS prev\n",
    "FROM db\n",
    "WINDOW w AS (PARTITION BY user_id ORDER BY dttm))\n",
    "WHERE prev IS NULL\n",
    "\"\"\"\n",
    "\n",
    "print(psql.sqldf(q))"
   ]
  },
  {
   "cell_type": "markdown",
   "metadata": {
    "pycharm": {
     "name": "#%% md\n"
    }
   },
   "source": [
    "**[TASK 12]** Display all users who had orders on two consecutive days"
   ]
  },
  {
   "cell_type": "code",
   "execution_count": 116,
   "metadata": {
    "pycharm": {
     "name": "#%%\n"
    },
    "scrolled": false
   },
   "outputs": [
    {
     "ename": "PandaSQLException",
     "evalue": "(sqlite3.OperationalError) near \"AS\": syntax error\n[SQL: \nSELECT\n    user_id\nFROM\n(SELECT\n    user_id, \n    order_id,\n    DATEDIFF(dttm, (LAG(dttm) OVER w) AS diff_time\nFROM db\nWINDOW w AS (PARTITION BY user_id))\nWHERE diff_time == 1\n]\n(Background on this error at: https://sqlalche.me/e/14/e3q8)",
     "output_type": "error",
     "traceback": [
      "\u001b[0;31m---------------------------------------------------------------------------\u001b[0m",
      "\u001b[0;31mOperationalError\u001b[0m                          Traceback (most recent call last)",
      "File \u001b[0;32m~/intro_ml_2022/.venv/lib/python3.10/site-packages/sqlalchemy/engine/base.py:1900\u001b[0m, in \u001b[0;36mConnection._execute_context\u001b[0;34m(self, dialect, constructor, statement, parameters, execution_options, *args, **kw)\u001b[0m\n\u001b[1;32m   1899\u001b[0m     \u001b[39mif\u001b[39;00m \u001b[39mnot\u001b[39;00m evt_handled:\n\u001b[0;32m-> 1900\u001b[0m         \u001b[39mself\u001b[39;49m\u001b[39m.\u001b[39;49mdialect\u001b[39m.\u001b[39;49mdo_execute(\n\u001b[1;32m   1901\u001b[0m             cursor, statement, parameters, context\n\u001b[1;32m   1902\u001b[0m         )\n\u001b[1;32m   1904\u001b[0m \u001b[39mif\u001b[39;00m \u001b[39mself\u001b[39m\u001b[39m.\u001b[39m_has_events \u001b[39mor\u001b[39;00m \u001b[39mself\u001b[39m\u001b[39m.\u001b[39mengine\u001b[39m.\u001b[39m_has_events:\n",
      "File \u001b[0;32m~/intro_ml_2022/.venv/lib/python3.10/site-packages/sqlalchemy/engine/default.py:736\u001b[0m, in \u001b[0;36mDefaultDialect.do_execute\u001b[0;34m(self, cursor, statement, parameters, context)\u001b[0m\n\u001b[1;32m    735\u001b[0m \u001b[39mdef\u001b[39;00m \u001b[39mdo_execute\u001b[39m(\u001b[39mself\u001b[39m, cursor, statement, parameters, context\u001b[39m=\u001b[39m\u001b[39mNone\u001b[39;00m):\n\u001b[0;32m--> 736\u001b[0m     cursor\u001b[39m.\u001b[39;49mexecute(statement, parameters)\n",
      "\u001b[0;31mOperationalError\u001b[0m: near \"AS\": syntax error",
      "\nThe above exception was the direct cause of the following exception:\n",
      "\u001b[0;31mOperationalError\u001b[0m                          Traceback (most recent call last)",
      "File \u001b[0;32m~/intro_ml_2022/.venv/lib/python3.10/site-packages/pandasql/sqldf.py:61\u001b[0m, in \u001b[0;36mPandaSQL.__call__\u001b[0;34m(self, query, env)\u001b[0m\n\u001b[1;32m     60\u001b[0m \u001b[39mtry\u001b[39;00m:\n\u001b[0;32m---> 61\u001b[0m     result \u001b[39m=\u001b[39m read_sql(query, conn)\n\u001b[1;32m     62\u001b[0m \u001b[39mexcept\u001b[39;00m DatabaseError \u001b[39mas\u001b[39;00m ex:\n",
      "File \u001b[0;32m~/intro_ml_2022/.venv/lib/python3.10/site-packages/pandas/io/sql.py:590\u001b[0m, in \u001b[0;36mread_sql\u001b[0;34m(sql, con, index_col, coerce_float, params, parse_dates, columns, chunksize)\u001b[0m\n\u001b[1;32m    589\u001b[0m \u001b[39melse\u001b[39;00m:\n\u001b[0;32m--> 590\u001b[0m     \u001b[39mreturn\u001b[39;00m pandas_sql\u001b[39m.\u001b[39;49mread_query(\n\u001b[1;32m    591\u001b[0m         sql,\n\u001b[1;32m    592\u001b[0m         index_col\u001b[39m=\u001b[39;49mindex_col,\n\u001b[1;32m    593\u001b[0m         params\u001b[39m=\u001b[39;49mparams,\n\u001b[1;32m    594\u001b[0m         coerce_float\u001b[39m=\u001b[39;49mcoerce_float,\n\u001b[1;32m    595\u001b[0m         parse_dates\u001b[39m=\u001b[39;49mparse_dates,\n\u001b[1;32m    596\u001b[0m         chunksize\u001b[39m=\u001b[39;49mchunksize,\n\u001b[1;32m    597\u001b[0m     )\n",
      "File \u001b[0;32m~/intro_ml_2022/.venv/lib/python3.10/site-packages/pandas/io/sql.py:1560\u001b[0m, in \u001b[0;36mSQLDatabase.read_query\u001b[0;34m(self, sql, index_col, coerce_float, parse_dates, params, chunksize, dtype)\u001b[0m\n\u001b[1;32m   1558\u001b[0m args \u001b[39m=\u001b[39m _convert_params(sql, params)\n\u001b[0;32m-> 1560\u001b[0m result \u001b[39m=\u001b[39m \u001b[39mself\u001b[39;49m\u001b[39m.\u001b[39;49mexecute(\u001b[39m*\u001b[39;49margs)\n\u001b[1;32m   1561\u001b[0m columns \u001b[39m=\u001b[39m result\u001b[39m.\u001b[39mkeys()\n",
      "File \u001b[0;32m~/intro_ml_2022/.venv/lib/python3.10/site-packages/pandas/io/sql.py:1405\u001b[0m, in \u001b[0;36mSQLDatabase.execute\u001b[0;34m(self, *args, **kwargs)\u001b[0m\n\u001b[1;32m   1404\u001b[0m \u001b[39m\"\"\"Simple passthrough to SQLAlchemy connectable\"\"\"\u001b[39;00m\n\u001b[0;32m-> 1405\u001b[0m \u001b[39mreturn\u001b[39;00m \u001b[39mself\u001b[39;49m\u001b[39m.\u001b[39;49mconnectable\u001b[39m.\u001b[39;49mexecution_options()\u001b[39m.\u001b[39;49mexecute(\u001b[39m*\u001b[39;49margs, \u001b[39m*\u001b[39;49m\u001b[39m*\u001b[39;49mkwargs)\n",
      "File \u001b[0;32m~/intro_ml_2022/.venv/lib/python3.10/site-packages/sqlalchemy/engine/base.py:1365\u001b[0m, in \u001b[0;36mConnection.execute\u001b[0;34m(self, statement, *multiparams, **params)\u001b[0m\n\u001b[1;32m   1357\u001b[0m     util\u001b[39m.\u001b[39mwarn_deprecated_20(\n\u001b[1;32m   1358\u001b[0m         \u001b[39m\"\u001b[39m\u001b[39mPassing a string to Connection.execute() is \u001b[39m\u001b[39m\"\u001b[39m\n\u001b[1;32m   1359\u001b[0m         \u001b[39m\"\u001b[39m\u001b[39mdeprecated and will be removed in version 2.0.  Use the \u001b[39m\u001b[39m\"\u001b[39m\n\u001b[0;32m   (...)\u001b[0m\n\u001b[1;32m   1362\u001b[0m         \u001b[39m\"\u001b[39m\u001b[39mdriver-level SQL string.\u001b[39m\u001b[39m\"\u001b[39m\n\u001b[1;32m   1363\u001b[0m     )\n\u001b[0;32m-> 1365\u001b[0m     \u001b[39mreturn\u001b[39;00m \u001b[39mself\u001b[39;49m\u001b[39m.\u001b[39;49m_exec_driver_sql(\n\u001b[1;32m   1366\u001b[0m         statement,\n\u001b[1;32m   1367\u001b[0m         multiparams,\n\u001b[1;32m   1368\u001b[0m         params,\n\u001b[1;32m   1369\u001b[0m         _EMPTY_EXECUTION_OPTS,\n\u001b[1;32m   1370\u001b[0m         future\u001b[39m=\u001b[39;49m\u001b[39mFalse\u001b[39;49;00m,\n\u001b[1;32m   1371\u001b[0m     )\n\u001b[1;32m   1373\u001b[0m \u001b[39mtry\u001b[39;00m:\n",
      "File \u001b[0;32m~/intro_ml_2022/.venv/lib/python3.10/site-packages/sqlalchemy/engine/base.py:1669\u001b[0m, in \u001b[0;36mConnection._exec_driver_sql\u001b[0;34m(self, statement, multiparams, params, execution_options, future)\u001b[0m\n\u001b[1;32m   1668\u001b[0m dialect \u001b[39m=\u001b[39m \u001b[39mself\u001b[39m\u001b[39m.\u001b[39mdialect\n\u001b[0;32m-> 1669\u001b[0m ret \u001b[39m=\u001b[39m \u001b[39mself\u001b[39;49m\u001b[39m.\u001b[39;49m_execute_context(\n\u001b[1;32m   1670\u001b[0m     dialect,\n\u001b[1;32m   1671\u001b[0m     dialect\u001b[39m.\u001b[39;49mexecution_ctx_cls\u001b[39m.\u001b[39;49m_init_statement,\n\u001b[1;32m   1672\u001b[0m     statement,\n\u001b[1;32m   1673\u001b[0m     distilled_parameters,\n\u001b[1;32m   1674\u001b[0m     execution_options,\n\u001b[1;32m   1675\u001b[0m     statement,\n\u001b[1;32m   1676\u001b[0m     distilled_parameters,\n\u001b[1;32m   1677\u001b[0m )\n\u001b[1;32m   1679\u001b[0m \u001b[39mif\u001b[39;00m \u001b[39mnot\u001b[39;00m future:\n",
      "File \u001b[0;32m~/intro_ml_2022/.venv/lib/python3.10/site-packages/sqlalchemy/engine/base.py:1943\u001b[0m, in \u001b[0;36mConnection._execute_context\u001b[0;34m(self, dialect, constructor, statement, parameters, execution_options, *args, **kw)\u001b[0m\n\u001b[1;32m   1942\u001b[0m \u001b[39mexcept\u001b[39;00m \u001b[39mBaseException\u001b[39;00m \u001b[39mas\u001b[39;00m e:\n\u001b[0;32m-> 1943\u001b[0m     \u001b[39mself\u001b[39;49m\u001b[39m.\u001b[39;49m_handle_dbapi_exception(\n\u001b[1;32m   1944\u001b[0m         e, statement, parameters, cursor, context\n\u001b[1;32m   1945\u001b[0m     )\n\u001b[1;32m   1947\u001b[0m \u001b[39mreturn\u001b[39;00m result\n",
      "File \u001b[0;32m~/intro_ml_2022/.venv/lib/python3.10/site-packages/sqlalchemy/engine/base.py:2124\u001b[0m, in \u001b[0;36mConnection._handle_dbapi_exception\u001b[0;34m(self, e, statement, parameters, cursor, context)\u001b[0m\n\u001b[1;32m   2123\u001b[0m \u001b[39melif\u001b[39;00m should_wrap:\n\u001b[0;32m-> 2124\u001b[0m     util\u001b[39m.\u001b[39;49mraise_(\n\u001b[1;32m   2125\u001b[0m         sqlalchemy_exception, with_traceback\u001b[39m=\u001b[39;49mexc_info[\u001b[39m2\u001b[39;49m], from_\u001b[39m=\u001b[39;49me\n\u001b[1;32m   2126\u001b[0m     )\n\u001b[1;32m   2127\u001b[0m \u001b[39melse\u001b[39;00m:\n",
      "File \u001b[0;32m~/intro_ml_2022/.venv/lib/python3.10/site-packages/sqlalchemy/util/compat.py:210\u001b[0m, in \u001b[0;36mraise_\u001b[0;34m(***failed resolving arguments***)\u001b[0m\n\u001b[1;32m    209\u001b[0m \u001b[39mtry\u001b[39;00m:\n\u001b[0;32m--> 210\u001b[0m     \u001b[39mraise\u001b[39;00m exception\n\u001b[1;32m    211\u001b[0m \u001b[39mfinally\u001b[39;00m:\n\u001b[1;32m    212\u001b[0m     \u001b[39m# credit to\u001b[39;00m\n\u001b[1;32m    213\u001b[0m     \u001b[39m# https://cosmicpercolator.com/2016/01/13/exception-leaks-in-python-2-and-3/\u001b[39;00m\n\u001b[1;32m    214\u001b[0m     \u001b[39m# as the __traceback__ object creates a cycle\u001b[39;00m\n",
      "File \u001b[0;32m~/intro_ml_2022/.venv/lib/python3.10/site-packages/sqlalchemy/engine/base.py:1900\u001b[0m, in \u001b[0;36mConnection._execute_context\u001b[0;34m(self, dialect, constructor, statement, parameters, execution_options, *args, **kw)\u001b[0m\n\u001b[1;32m   1899\u001b[0m     \u001b[39mif\u001b[39;00m \u001b[39mnot\u001b[39;00m evt_handled:\n\u001b[0;32m-> 1900\u001b[0m         \u001b[39mself\u001b[39;49m\u001b[39m.\u001b[39;49mdialect\u001b[39m.\u001b[39;49mdo_execute(\n\u001b[1;32m   1901\u001b[0m             cursor, statement, parameters, context\n\u001b[1;32m   1902\u001b[0m         )\n\u001b[1;32m   1904\u001b[0m \u001b[39mif\u001b[39;00m \u001b[39mself\u001b[39m\u001b[39m.\u001b[39m_has_events \u001b[39mor\u001b[39;00m \u001b[39mself\u001b[39m\u001b[39m.\u001b[39mengine\u001b[39m.\u001b[39m_has_events:\n",
      "File \u001b[0;32m~/intro_ml_2022/.venv/lib/python3.10/site-packages/sqlalchemy/engine/default.py:736\u001b[0m, in \u001b[0;36mDefaultDialect.do_execute\u001b[0;34m(self, cursor, statement, parameters, context)\u001b[0m\n\u001b[1;32m    735\u001b[0m \u001b[39mdef\u001b[39;00m \u001b[39mdo_execute\u001b[39m(\u001b[39mself\u001b[39m, cursor, statement, parameters, context\u001b[39m=\u001b[39m\u001b[39mNone\u001b[39;00m):\n\u001b[0;32m--> 736\u001b[0m     cursor\u001b[39m.\u001b[39;49mexecute(statement, parameters)\n",
      "\u001b[0;31mOperationalError\u001b[0m: (sqlite3.OperationalError) near \"AS\": syntax error\n[SQL: \nSELECT\n    user_id\nFROM\n(SELECT\n    user_id, \n    order_id,\n    DATEDIFF(dttm, (LAG(dttm) OVER w) AS diff_time\nFROM db\nWINDOW w AS (PARTITION BY user_id))\nWHERE diff_time == 1\n]\n(Background on this error at: https://sqlalche.me/e/14/e3q8)",
      "\nDuring handling of the above exception, another exception occurred:\n",
      "\u001b[0;31mPandaSQLException\u001b[0m                         Traceback (most recent call last)",
      "Cell \u001b[0;32mIn [116], line 14\u001b[0m\n\u001b[1;32m      1\u001b[0m q \u001b[39m=\u001b[39m \u001b[39m\"\"\"\u001b[39m\n\u001b[1;32m      2\u001b[0m \u001b[39mSELECT\u001b[39m\n\u001b[1;32m      3\u001b[0m \u001b[39m    user_id\u001b[39m\n\u001b[0;32m   (...)\u001b[0m\n\u001b[1;32m     11\u001b[0m \u001b[39mWHERE diff_time == 1\u001b[39m\n\u001b[1;32m     12\u001b[0m \u001b[39m\"\"\"\u001b[39m\n\u001b[0;32m---> 14\u001b[0m \u001b[39mprint\u001b[39m(psql\u001b[39m.\u001b[39;49msqldf(q))\n",
      "File \u001b[0;32m~/intro_ml_2022/.venv/lib/python3.10/site-packages/pandasql/sqldf.py:156\u001b[0m, in \u001b[0;36msqldf\u001b[0;34m(query, env, db_uri)\u001b[0m\n\u001b[1;32m    124\u001b[0m \u001b[39mdef\u001b[39;00m \u001b[39msqldf\u001b[39m(query, env\u001b[39m=\u001b[39m\u001b[39mNone\u001b[39;00m, db_uri\u001b[39m=\u001b[39m\u001b[39m'\u001b[39m\u001b[39msqlite:///:memory:\u001b[39m\u001b[39m'\u001b[39m):\n\u001b[1;32m    125\u001b[0m     \u001b[39m\"\"\"\u001b[39;00m\n\u001b[1;32m    126\u001b[0m \u001b[39m    Query pandas data frames using sql syntax\u001b[39;00m\n\u001b[1;32m    127\u001b[0m \u001b[39m    This function is meant for backward compatibility only. New users are encouraged to use the PandaSQL class.\u001b[39;00m\n\u001b[0;32m   (...)\u001b[0m\n\u001b[1;32m    154\u001b[0m \u001b[39m    >>> sqldf(\"select avg(x) from df;\", locals())\u001b[39;00m\n\u001b[1;32m    155\u001b[0m \u001b[39m    \"\"\"\u001b[39;00m\n\u001b[0;32m--> 156\u001b[0m     \u001b[39mreturn\u001b[39;00m PandaSQL(db_uri)(query, env)\n",
      "File \u001b[0;32m~/intro_ml_2022/.venv/lib/python3.10/site-packages/pandasql/sqldf.py:63\u001b[0m, in \u001b[0;36mPandaSQL.__call__\u001b[0;34m(self, query, env)\u001b[0m\n\u001b[1;32m     61\u001b[0m     result \u001b[39m=\u001b[39m read_sql(query, conn)\n\u001b[1;32m     62\u001b[0m \u001b[39mexcept\u001b[39;00m DatabaseError \u001b[39mas\u001b[39;00m ex:\n\u001b[0;32m---> 63\u001b[0m     \u001b[39mraise\u001b[39;00m PandaSQLException(ex)\n\u001b[1;32m     64\u001b[0m \u001b[39mexcept\u001b[39;00m ResourceClosedError:\n\u001b[1;32m     65\u001b[0m     \u001b[39m# query returns nothing\u001b[39;00m\n\u001b[1;32m     66\u001b[0m     result \u001b[39m=\u001b[39m \u001b[39mNone\u001b[39;00m\n",
      "\u001b[0;31mPandaSQLException\u001b[0m: (sqlite3.OperationalError) near \"AS\": syntax error\n[SQL: \nSELECT\n    user_id\nFROM\n(SELECT\n    user_id, \n    order_id,\n    DATEDIFF(dttm, (LAG(dttm) OVER w) AS diff_time\nFROM db\nWINDOW w AS (PARTITION BY user_id))\nWHERE diff_time == 1\n]\n(Background on this error at: https://sqlalche.me/e/14/e3q8)"
     ]
    }
   ],
   "source": [
    "q = \"\"\"\n",
    "SELECT\n",
    "    user_id\n",
    "FROM\n",
    "(SELECT\n",
    "    user_id, \n",
    "    order_id,\n",
    "    DATEDIFF(dttm, (LAG(dttm) OVER w) AS diff_time\n",
    "FROM db\n",
    "WINDOW w AS (PARTITION BY user_id))\n",
    "WHERE diff_time == 1\n",
    "\"\"\"\n",
    "\n",
    "print(psql.sqldf(q))"
   ]
  },
  {
   "cell_type": "markdown",
   "metadata": {
    "pycharm": {
     "name": "#%% md\n"
    }
   },
   "source": [
    "**[TASK 13]** Find all orders of users who never decreased amounts of orders (each order is more expensive or equal to the previous one)"
   ]
  },
  {
   "cell_type": "code",
   "execution_count": 105,
   "metadata": {
    "pycharm": {
     "name": "#%%\n"
    },
    "scrolled": false
   },
   "outputs": [
    {
     "name": "stdout",
     "output_type": "stream",
     "text": [
      "              order_id\n",
      "0     46771d1f432b4234\n",
      "1     aaf2979785deb278\n",
      "2     2990cb071c6413d6\n",
      "3     4639475d6782a08c\n",
      "4     375c71349b295fbe\n",
      "...                ...\n",
      "2291  09eb27dec1a45d92\n",
      "2292  92fde850d824c2ba\n",
      "2293  aa108f56a10e75c1\n",
      "2294  a118806694c9d9b1\n",
      "2295  ac4e7a4f341e7281\n",
      "\n",
      "[2296 rows x 1 columns]\n"
     ]
    }
   ],
   "source": [
    "q = \"\"\"\n",
    "SELECT\n",
    "    order_id\n",
    "FROM\n",
    "(SELECT\n",
    "    user_id,\n",
    "    order_id,\n",
    "    - amount + LEAD(amount) OVER w AS diff_amount\n",
    "FROM db\n",
    "WINDOW w AS (PARTITION BY user_id ORDER BY dttm))\n",
    "WHERE diff_amount > 0\n",
    "\"\"\"\n",
    "print(psql.sqldf(q))"
   ]
  },
  {
   "cell_type": "code",
   "execution_count": null,
   "metadata": {},
   "outputs": [],
   "source": []
  }
 ],
 "metadata": {
  "kernelspec": {
   "display_name": "Python 3.10.6 ('.venv': poetry)",
   "language": "python",
   "name": "python3"
  },
  "language_info": {
   "codemirror_mode": {
    "name": "ipython",
    "version": 3
   },
   "file_extension": ".py",
   "mimetype": "text/x-python",
   "name": "python",
   "nbconvert_exporter": "python",
   "pygments_lexer": "ipython3",
   "version": "3.10.6"
  },
  "vscode": {
   "interpreter": {
    "hash": "138d51effc9043574312307a8553d3aec8acacb34e7f0e2b9f7704efba7675db"
   }
  }
 },
 "nbformat": 4,
 "nbformat_minor": 4
}
